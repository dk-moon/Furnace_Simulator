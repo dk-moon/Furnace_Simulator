{
 "cells": [
  {
   "cell_type": "code",
   "execution_count": null,
   "metadata": {},
   "outputs": [],
   "source": [
    "import pandas as pd\n",
    "import numpy as np\n",
    "import os\n",
    "import glob\n",
    "\n",
    "# 회귀 모델 관련 패키지\n",
    "import statsmodels\n",
    "from statsmodels.api import OLS, add_constant\n",
    "from statsmodels.api import add_constant\n",
    "from statsmodels.regression.linear_model import OLS\n",
    "\n",
    "# 평가 지표\n",
    "from sklearn.metrics import mean_squared_error"
   ]
  },
  {
   "cell_type": "code",
   "execution_count": null,
   "metadata": {},
   "outputs": [],
   "source": [
    "class make_data:\n",
    "    def __init__(self, dataset_list, rate, target_temp, std):\n",
    "        \"\"\"\n",
    "        dataset_list : dataset 경로를 list 형태로 받음\n",
    "        rate : train, test 분할 비율(train = rate, test = 1-rate)\n",
    "        target_temp : 목표온도\n",
    "        std : 가용 가능한 목표온도 편차\n",
    "        \"\"\"\n",
    "        self.train_list = dataset_list[:int(len(dataset_list)*rate)]\n",
    "        self.test_list = dataset_list[int(len(dataset_list)*rate):]\n",
    "        \n",
    "        self.target_temp = target_temp - std\n",
    "    \n",
    "    def data_merge(self, data_list):\n",
    "        \"\"\"\n",
    "        모든 데이터 경로를 가져와서 분할\n",
    "        \"\"\"\n",
    "        data_set = pd.read_csv(data_list[0], low_memory=False).iloc[:, 6:15].dropna()\n",
    "        \n",
    "        # 모든 온도측정센서에서 목표온도에 모두 다 도달한 시점 이후에 데이터만 사용\n",
    "        data_set[\"tem_min\"] = data_set.min(axis = 1)\n",
    "        first_index = data_set[(data_set['tem_min']>=self.target_temp)].index[0]\n",
    "        data_set = data_set.drop(columns=[\"tem_min\"]).iloc[first_index:,:]\n",
    "\n",
    "        for i in range(len(data_list[:-1])):\n",
    "            merge_set = pd.read_csv(data_list[i+1], low_memory=False).iloc[:, 6:15].dropna()\n",
    "            \n",
    "            # 모든 온도측정센서에서 목표온도에 모두 다 도달한 시점 이후에 데이터만 사용\n",
    "            merge_set[\"tem_min\"] = merge_set.min(axis = 1)\n",
    "            first_index = merge_set[(merge_set['tem_min']>=self.target_temp)].index[0]\n",
    "            merge_set = merge_set.drop(columns=[\"tem_min\"]).iloc[first_index:,:]\n",
    "            \n",
    "            # 행 기준 결합\n",
    "            data_set = pd.concat([data_set, merge_set], axis = 0) \n",
    "\n",
    "        return data_set\n",
    "    \n",
    "    def return_data(self):\n",
    "        return self.data_merge(self.train_list), self.data_merge(self.test_list)\n",
    "\n",
    "t850 = \"../../data/Temperature/850c/*.csv\"\n",
    "t900 = \"../../data/Temperature/900c/*.csv\"\n",
    "t1000 = \"../../data/Temperature/1000c/*.csv\"\n",
    "t850_list = glob.glob(t850)\n",
    "t900_list = glob.glob(t900)\n",
    "t1000_list = glob.glob(t1000)\n",
    "data_list = [t850_list, t900_list, t1000_list]\n",
    "data_split_rate = 0.7\n",
    "target_temp_list = [850,900,1000]\n",
    "\n",
    "train_data = pd.DataFrame()\n",
    "test_data = pd.DataFrame()\n",
    "for idx in range(len(data_list)):\n",
    "    temp_data_list = data_list[idx]\n",
    "    if len(temp_data_list) > 0:\n",
    "        temp_train_data, temp_test_data = make_data(temp_data_list,\n",
    "                                                    rate = data_split_rate,\n",
    "                                                    target_temp = target_temp_list[idx],\n",
    "                                                    std = target_temp_list[idx] - 300).return_data()\n",
    "        train_data = pd.concat([train_data, temp_train_data])\n",
    "        test_data = pd.concat([test_data, temp_test_data])"
   ]
  },
  {
   "cell_type": "code",
   "execution_count": null,
   "metadata": {},
   "outputs": [],
   "source": [
    "train_data_lists = [train_data[col].tolist() for col in train_data.columns]\n",
    "train_X = add_constant(train_data_lists[-1])\n",
    "train_ys = []\n",
    "for i in range(len(train_data_lists)-1):\n",
    "    train_ys.append(train_data_lists[i])"
   ]
  },
  {
   "cell_type": "code",
   "execution_count": null,
   "metadata": {},
   "outputs": [],
   "source": [
    "test_data_lists = [test_data[col].tolist() for col in test_data.columns]\n",
    "test_X = add_constant(test_data_lists[-1])\n",
    "test_ys = []\n",
    "for i in range(len(test_data_lists)-1):\n",
    "    test_ys.append(test_data_lists[i])"
   ]
  },
  {
   "cell_type": "code",
   "execution_count": null,
   "metadata": {},
   "outputs": [],
   "source": [
    "for idx in range(len(train_ys)):\n",
    "    train_y = train_ys[idx]\n",
    "    \n",
    "    # 회귀 모델 학습\n",
    "    locals()['ch9_lm_'+str(idx)] = OLS(train_y, train_X).fit()"
   ]
  },
  {
   "cell_type": "code",
   "execution_count": null,
   "metadata": {},
   "outputs": [],
   "source": [
    "test = locals()['ch9_lm_'+str(1)]"
   ]
  },
  {
   "cell_type": "code",
   "execution_count": null,
   "metadata": {},
   "outputs": [],
   "source": [
    "test.conf_int()"
   ]
  },
  {
   "cell_type": "code",
   "execution_count": null,
   "metadata": {},
   "outputs": [],
   "source": [
    "with open('./model_summary.txt', 'w') as f:\n",
    "    f.write(test.summary().as_text())"
   ]
  },
  {
   "cell_type": "code",
   "execution_count": null,
   "metadata": {},
   "outputs": [],
   "source": [
    "test.params"
   ]
  },
  {
   "cell_type": "code",
   "execution_count": null,
   "metadata": {},
   "outputs": [],
   "source": [
    "test.pvalues"
   ]
  },
  {
   "cell_type": "code",
   "execution_count": null,
   "metadata": {},
   "outputs": [],
   "source": [
    "test.rsquared"
   ]
  },
  {
   "cell_type": "code",
   "execution_count": null,
   "metadata": {},
   "outputs": [],
   "source": []
  },
  {
   "cell_type": "code",
   "execution_count": null,
   "metadata": {},
   "outputs": [],
   "source": []
  },
  {
   "cell_type": "code",
   "execution_count": null,
   "metadata": {},
   "outputs": [],
   "source": [
    "pred_list = []\n",
    "eval_list = []\n",
    "for idx in range(len(test_ys)):\n",
    "    pred = locals()['ch9_lm_'+str(idx)].predict(test_X)\n",
    "    pred_list.append(pred)\n",
    "    \n",
    "    test_y = test_ys[idx]\n",
    "    mse = mean_squared_error(test_y, pred)\n",
    "    rmse = np.sqrt(mse)\n",
    "    eval_list.append([mse, rmse])"
   ]
  },
  {
   "cell_type": "code",
   "execution_count": null,
   "metadata": {},
   "outputs": [],
   "source": [
    "eval_list"
   ]
  },
  {
   "cell_type": "code",
   "execution_count": null,
   "metadata": {},
   "outputs": [],
   "source": [
    "eval_df = pd.DataFrame(columns=[\"mse\",\"rmse\"],data=eval_list)\n",
    "eval_df.head()"
   ]
  },
  {
   "cell_type": "code",
   "execution_count": null,
   "metadata": {},
   "outputs": [],
   "source": [
    "pred_df = pd.DataFrame(data=pred_list).T\n",
    "pred_df.columns = [\"ch1\",\"ch2\",\"ch3\",\"ch4\",\"ch5\",\"ch6\",\"ch7\",\"ch8\"]"
   ]
  },
  {
   "cell_type": "code",
   "execution_count": null,
   "metadata": {},
   "outputs": [],
   "source": [
    "pred_df.head(5)"
   ]
  },
  {
   "cell_type": "code",
   "execution_count": null,
   "metadata": {},
   "outputs": [],
   "source": [
    "import pickle\n",
    "\n",
    "for idx in range(len(test_ys)):\n",
    "    model = pred = locals()['ch9_lm_'+str(idx)]\n",
    "    # 모델 저장\n",
    "    with open(f'./models/model_{idx+1}.pkl', 'wb') as f:\n",
    "        pickle.dump(model, f)"
   ]
  },
  {
   "cell_type": "code",
   "execution_count": null,
   "metadata": {},
   "outputs": [],
   "source": []
  }
 ],
 "metadata": {
  "kernelspec": {
   "display_name": "Python 3",
   "language": "python",
   "name": "python3"
  },
  "language_info": {
   "codemirror_mode": {
    "name": "ipython",
    "version": 3
   },
   "file_extension": ".py",
   "mimetype": "text/x-python",
   "name": "python",
   "nbconvert_exporter": "python",
   "pygments_lexer": "ipython3",
   "version": "3.10.9"
  },
  "orig_nbformat": 4
 },
 "nbformat": 4,
 "nbformat_minor": 2
}
